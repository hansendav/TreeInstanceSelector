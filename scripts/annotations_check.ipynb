{
 "cells": [
  {
   "cell_type": "code",
   "execution_count": 1,
   "id": "c9f51968",
   "metadata": {},
   "outputs": [],
   "source": [
    "import json \n",
    "import pandas as pd "
   ]
  },
  {
   "cell_type": "code",
   "execution_count": 3,
   "id": "18c7b6e9",
   "metadata": {},
   "outputs": [],
   "source": [
    "with open('annotations_instanceselector.json', 'r') as f:\n",
    "    content = f.read().strip()\n",
    "    data = json.loads(content)"
   ]
  },
  {
   "cell_type": "code",
   "execution_count": 4,
   "id": "fc3f869b",
   "metadata": {},
   "outputs": [],
   "source": [
    "values = data.values()"
   ]
  },
  {
   "cell_type": "code",
   "execution_count": 11,
   "id": "5554426f",
   "metadata": {},
   "outputs": [
    {
     "data": {
      "text/plain": [
       "fragments              0.36\n",
       "clean, no occlusion    0.33\n",
       "clean, occlusion       0.22\n",
       "more than 1 tree       0.07\n",
       "cut tree               0.01\n",
       "Name: proportion, dtype: float64"
      ]
     },
     "execution_count": 11,
     "metadata": {},
     "output_type": "execute_result"
    }
   ],
   "source": [
    "pd.Series(values).value_counts(normalize=True).round(2)"
   ]
  },
  {
   "cell_type": "code",
   "execution_count": 6,
   "id": "d639b95f",
   "metadata": {},
   "outputs": [
    {
     "data": {
      "text/plain": [
       "1470"
      ]
     },
     "execution_count": 6,
     "metadata": {},
     "output_type": "execute_result"
    }
   ],
   "source": [
    "pd.Series(values).value_counts().sum()"
   ]
  },
  {
   "cell_type": "code",
   "execution_count": 7,
   "id": "9ed98f65",
   "metadata": {},
   "outputs": [],
   "source": [
    "data = pd.DataFrame.from_dict(data, orient='index')"
   ]
  },
  {
   "cell_type": "code",
   "execution_count": 8,
   "id": "73ab8705",
   "metadata": {},
   "outputs": [],
   "source": [
    "data.columns = ['label']"
   ]
  },
  {
   "cell_type": "code",
   "execution_count": 9,
   "id": "e2d553ad",
   "metadata": {},
   "outputs": [
    {
     "data": {
      "text/html": [
       "<div>\n",
       "<style scoped>\n",
       "    .dataframe tbody tr th:only-of-type {\n",
       "        vertical-align: middle;\n",
       "    }\n",
       "\n",
       "    .dataframe tbody tr th {\n",
       "        vertical-align: top;\n",
       "    }\n",
       "\n",
       "    .dataframe thead th {\n",
       "        text-align: right;\n",
       "    }\n",
       "</style>\n",
       "<table border=\"1\" class=\"dataframe\">\n",
       "  <thead>\n",
       "    <tr style=\"text-align: right;\">\n",
       "      <th></th>\n",
       "      <th>label</th>\n",
       "    </tr>\n",
       "  </thead>\n",
       "  <tbody>\n",
       "    <tr>\n",
       "      <th>Puletti_2020/Puletti_2020_1.0.h5_0</th>\n",
       "      <td>cut tree</td>\n",
       "    </tr>\n",
       "    <tr>\n",
       "      <th>Puletti_2020/Puletti_2020_1.0.h5_1</th>\n",
       "      <td>clean, occlusion</td>\n",
       "    </tr>\n",
       "    <tr>\n",
       "      <th>Puletti_2020/Puletti_2020_1.0.h5_2</th>\n",
       "      <td>clean, occlusion</td>\n",
       "    </tr>\n",
       "    <tr>\n",
       "      <th>Puletti_2020/Puletti_2020_1.0.h5_3</th>\n",
       "      <td>fragments</td>\n",
       "    </tr>\n",
       "    <tr>\n",
       "      <th>Puletti_2020/Puletti_2020_1.0.h5_4</th>\n",
       "      <td>fragments</td>\n",
       "    </tr>\n",
       "    <tr>\n",
       "      <th>...</th>\n",
       "      <td>...</td>\n",
       "    </tr>\n",
       "    <tr>\n",
       "      <th>Hollaus_2022/Hollaus_2022_1.0.h5_495</th>\n",
       "      <td>cut tree</td>\n",
       "    </tr>\n",
       "    <tr>\n",
       "      <th>Hollaus_2022/Hollaus_2022_1.0.h5_496</th>\n",
       "      <td>fragments</td>\n",
       "    </tr>\n",
       "    <tr>\n",
       "      <th>Hollaus_2022/Hollaus_2022_1.0.h5_497</th>\n",
       "      <td>clean, no occlusion</td>\n",
       "    </tr>\n",
       "    <tr>\n",
       "      <th>Hollaus_2022/Hollaus_2022_1.0.h5_498</th>\n",
       "      <td>clean, no occlusion</td>\n",
       "    </tr>\n",
       "    <tr>\n",
       "      <th>Hollaus_2022/Hollaus_2022_1.0.h5_499</th>\n",
       "      <td>fragments</td>\n",
       "    </tr>\n",
       "  </tbody>\n",
       "</table>\n",
       "<p>1470 rows × 1 columns</p>\n",
       "</div>"
      ],
      "text/plain": [
       "                                                    label\n",
       "Puletti_2020/Puletti_2020_1.0.h5_0               cut tree\n",
       "Puletti_2020/Puletti_2020_1.0.h5_1       clean, occlusion\n",
       "Puletti_2020/Puletti_2020_1.0.h5_2       clean, occlusion\n",
       "Puletti_2020/Puletti_2020_1.0.h5_3              fragments\n",
       "Puletti_2020/Puletti_2020_1.0.h5_4              fragments\n",
       "...                                                   ...\n",
       "Hollaus_2022/Hollaus_2022_1.0.h5_495             cut tree\n",
       "Hollaus_2022/Hollaus_2022_1.0.h5_496            fragments\n",
       "Hollaus_2022/Hollaus_2022_1.0.h5_497  clean, no occlusion\n",
       "Hollaus_2022/Hollaus_2022_1.0.h5_498  clean, no occlusion\n",
       "Hollaus_2022/Hollaus_2022_1.0.h5_499            fragments\n",
       "\n",
       "[1470 rows x 1 columns]"
      ]
     },
     "execution_count": 9,
     "metadata": {},
     "output_type": "execute_result"
    }
   ],
   "source": [
    "data"
   ]
  },
  {
   "cell_type": "code",
   "execution_count": null,
   "id": "1eaa94b0",
   "metadata": {},
   "outputs": [],
   "source": []
  }
 ],
 "metadata": {
  "kernelspec": {
   "display_name": "deeplearning-base",
   "language": "python",
   "name": "python3"
  },
  "language_info": {
   "codemirror_mode": {
    "name": "ipython",
    "version": 3
   },
   "file_extension": ".py",
   "mimetype": "text/x-python",
   "name": "python",
   "nbconvert_exporter": "python",
   "pygments_lexer": "ipython3",
   "version": "3.12.7"
  }
 },
 "nbformat": 4,
 "nbformat_minor": 5
}
