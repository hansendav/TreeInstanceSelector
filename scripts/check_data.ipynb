{
 "cells": [
  {
   "cell_type": "code",
   "execution_count": 1,
   "id": "59f4403e",
   "metadata": {},
   "outputs": [],
   "source": [
    "import h5py \n",
    "import pandas as pd \n",
    "import numpy as np "
   ]
  },
  {
   "cell_type": "code",
   "execution_count": 22,
   "id": "af518a0c",
   "metadata": {},
   "outputs": [],
   "source": [
    "scores = []\n",
    "with h5py.File('/home/gentleprotector/ssl-pointclouds/TreeInstanceSelector/data/datasets/oslokommune_2019/oslokommune_2019_1.0.h5', 'r') as f: \n",
    "   for i in range(int(f.attrs['num_instances'])):\n",
    "        scores.append(np.reshape(f['train/attrs'][i], (-1, f.attrs['num_attrs']))[0, 2])"
   ]
  },
  {
   "cell_type": "code",
   "execution_count": 26,
   "id": "b6d17d37",
   "metadata": {},
   "outputs": [],
   "source": [
    "scores = np.array(scores)"
   ]
  },
  {
   "cell_type": "code",
   "execution_count": 27,
   "id": "58288b41",
   "metadata": {},
   "outputs": [
    {
     "data": {
      "text/plain": [
       "(1.0561103, 0.20000255)"
      ]
     },
     "execution_count": 27,
     "metadata": {},
     "output_type": "execute_result"
    }
   ],
   "source": [
    "scores.max(), scores.min()"
   ]
  },
  {
   "cell_type": "code",
   "execution_count": 36,
   "id": "8b06c1cc",
   "metadata": {},
   "outputs": [],
   "source": [
    "scores_g8 = scores[scores > .6]"
   ]
  },
  {
   "cell_type": "code",
   "execution_count": 37,
   "id": "c298e2b6",
   "metadata": {},
   "outputs": [
    {
     "data": {
      "text/plain": [
       "(231977,)"
      ]
     },
     "execution_count": 37,
     "metadata": {},
     "output_type": "execute_result"
    }
   ],
   "source": [
    "scores_g8.shape"
   ]
  },
  {
   "cell_type": "code",
   "execution_count": null,
   "id": "8ef444fd",
   "metadata": {},
   "outputs": [],
   "source": []
  }
 ],
 "metadata": {
  "kernelspec": {
   "display_name": "deeplearning-base",
   "language": "python",
   "name": "python3"
  },
  "language_info": {
   "codemirror_mode": {
    "name": "ipython",
    "version": 3
   },
   "file_extension": ".py",
   "mimetype": "text/x-python",
   "name": "python",
   "nbconvert_exporter": "python",
   "pygments_lexer": "ipython3",
   "version": "3.12.7"
  }
 },
 "nbformat": 4,
 "nbformat_minor": 5
}
